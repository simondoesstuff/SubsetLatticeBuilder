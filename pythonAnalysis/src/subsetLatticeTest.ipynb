{
 "cells": [
  {
   "cell_type": "code",
   "execution_count": 5,
   "metadata": {},
   "outputs": [],
   "source": [
    "import time"
   ]
  },
  {
   "cell_type": "code",
   "execution_count": 6,
   "metadata": {},
   "outputs": [],
   "source": [
    "def subsets(s):\n",
    "    \"\"\"Return all subsets of s\"\"\"\n",
    "    if s == []:\n",
    "        return [[]]\n",
    "    else:\n",
    "        rest = subsets(s[1:])\n",
    "        return rest + [[s[0]] + x for x in rest]\n",
    "\n",
    "\n",
    "def lattice(degree):\n",
    "    \"\"\"Return the lattice of subsets of {1,...,degree}\"\"\"\n",
    "    return subsets(list(range(1,degree+1)))"
   ]
  },
  {
   "cell_type": "code",
   "execution_count": 7,
   "metadata": {},
   "outputs": [
    {
     "name": "stdout",
     "output_type": "stream",
     "text": [
      "Constructing a 10-degree lattice...\n",
      "Done in 0.0001308917999267578 seconds.\n",
      "Constructing a 15-degree lattice...\n",
      "Done in 0.0044591426849365234 seconds.\n",
      "Constructing a 20-degree lattice...\n",
      "Done in 0.15130400657653809 seconds.\n",
      "Constructing a 25-degree lattice...\n",
      "Done in 33.61220598220825 seconds.\n",
      "Constructing a 30-degree lattice...\n"
     ]
    }
   ],
   "source": [
    "def benchmark(d):\n",
    "    print(f\"Constructing a {d}-degree lattice...\")\n",
    "    t0 = time.time()\n",
    "    l = lattice(d)\n",
    "    t1 = time.time()\n",
    "    print(f\"Done in {t1-t0} seconds.\")\n",
    "\n",
    "\n",
    "for d in range(10, 50, 5):\n",
    "    benchmark(d)"
   ]
  },
  {
   "attachments": {},
   "cell_type": "markdown",
   "metadata": {},
   "source": [
    "# Generating a huge subset lattice is **Infeasible**\n",
    "\n",
    "![timeGraph](./subsetLatticeCurve.png)"
   ]
  },
  {
   "attachments": {},
   "cell_type": "markdown",
   "metadata": {},
   "source": [
    " the dataset requires a degree of several hundred (or even a few thousand!)"
   ]
  }
 ],
 "metadata": {
  "kernelspec": {
   "display_name": "Python 3",
   "language": "python",
   "name": "python3"
  },
  "language_info": {
   "codemirror_mode": {
    "name": "ipython",
    "version": 3
   },
   "file_extension": ".py",
   "mimetype": "text/x-python",
   "name": "python",
   "nbconvert_exporter": "python",
   "pygments_lexer": "ipython3",
   "version": "3.11.3"
  },
  "orig_nbformat": 4
 },
 "nbformat": 4,
 "nbformat_minor": 2
}
