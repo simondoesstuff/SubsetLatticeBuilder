{
 "cells": [
  {
   "cell_type": "code",
   "execution_count": 14,
   "metadata": {},
   "outputs": [],
   "source": [
    "import hnswlib\n",
    "import numpy as np\n",
    "import networkx as nx\n",
    "import time"
   ]
  },
  {
   "cell_type": "code",
   "execution_count": 2,
   "metadata": {},
   "outputs": [],
   "source": [
    "def parse_nodes(path):\n",
    "    contents = open(path).read().splitlines()\n",
    "    nodes = [[int(x) for x in line.split()] for line in contents]\n",
    "    nodes = [ set(x) for x in nodes ]\n",
    "    return nodes"
   ]
  },
  {
   "cell_type": "code",
   "execution_count": 3,
   "metadata": {},
   "outputs": [],
   "source": [
    "def load_soln(path): # iterate each line as an edge\n",
    "    parseNode = lambda x: tuple(sorted([int(y) for y in x.split(' ')]))\n",
    "    graph = nx.read_edgelist(path, create_using=nx.DiGraph(), nodetype=parseNode, delimiter=' -> ')\n",
    "\n",
    "    print(list(graph.edges())[:500])\n",
    "    print(f\"There are {len(graph.nodes())} nodes and {len(graph.edges())} edges\")\n",
    "    \n",
    "    return graph"
   ]
  },
  {
   "cell_type": "markdown",
   "metadata": {},
   "source": [
    "# Building Graph via Transitive Reduction"
   ]
  },
  {
   "cell_type": "code",
   "execution_count": 4,
   "metadata": {},
   "outputs": [
    {
     "data": {
      "text/plain": [
       "OutEdgeView([((2, 5, 570), (1, 2, 4, 5, 11, 121, 468, 570)), ((2, 5, 570), (1, 2, 4, 5, 7, 11, 468, 570)), ((1, 5), (1, 3, 5, 189)), ((1, 5), (1, 3, 5, 8, 477)), ((1, 5), (1, 5, 11)), ((1, 5), (1, 5, 6)), ((1, 5), (1, 5, 468, 570)), ((1, 5, 11), (1, 2, 4, 5, 11, 121, 468, 570)), ((1, 5, 11), (1, 2, 4, 5, 7, 11, 468, 570)), ((1, 3, 5, 189), (1, 3, 5, 189, 669)), ((1, 3, 5, 189), (1, 3, 5, 189, 204, 477)), ((1, 3, 5, 189, 204, 477), (1, 3, 5, 189, 204, 477, 669)), ((1, 3, 5, 189, 669), (1, 3, 5, 189, 204, 477, 669)), ((1, 3, 5, 189, 204, 477, 669), (1, 3, 5, 189, 204, 477, 633, 669)), ((1, 5, 468, 570), (1, 2, 4, 5, 7, 11, 468, 570))])"
      ]
     },
     "execution_count": 4,
     "metadata": {},
     "output_type": "execute_result"
    }
   ],
   "source": [
    "nodes = parse_nodes('../../data/example/13.txt')\n",
    "nodes = [tuple(sorted(x)) for x in nodes]\n",
    "graph = nx.DiGraph()\n",
    "graph.add_nodes_from(nodes)\n",
    "\n",
    "# adding edges from every node to every other node\n",
    "for i in range(len(nodes)):\n",
    "    for j in range(i+1, len(nodes)):\n",
    "        if (set(nodes[i]).issubset(set(nodes[j]))):\n",
    "            graph.add_edge(nodes[i], nodes[j])\n",
    "\n",
    "tx = nx.transitive_reduction(graph)\n",
    "tx.edges\n"
   ]
  },
  {
   "cell_type": "code",
   "execution_count": 5,
   "metadata": {},
   "outputs": [
    {
     "name": "stdout",
     "output_type": "stream",
     "text": [
      "[((2, 5, 570), (1, 2, 4, 5, 11, 121, 468, 570)), ((2, 5, 570), (1, 2, 4, 5, 7, 11, 468, 570)), ((1, 5), (1, 5, 11)), ((1, 5), (1, 3, 5, 189)), ((1, 5), (1, 5, 468, 570)), ((1, 5), (1, 5, 6)), ((1, 5), (1, 3, 5, 8, 477)), ((1, 5, 11), (1, 2, 4, 5, 11, 121, 468, 570)), ((1, 5, 11), (1, 2, 4, 5, 7, 11, 468, 570)), ((1, 3, 5, 189), (1, 3, 5, 189, 204, 477)), ((1, 3, 5, 189), (1, 3, 5, 189, 669)), ((1, 5, 468, 570), (1, 2, 4, 5, 11, 121, 468, 570)), ((1, 5, 468, 570), (1, 2, 4, 5, 7, 11, 468, 570)), ((1, 3, 5, 189, 204, 477), (1, 3, 5, 189, 204, 477, 669)), ((1, 3, 5, 189, 669), (1, 3, 5, 189, 204, 477, 669)), ((1, 3, 5, 189, 204, 477, 669), (1, 3, 5, 189, 204, 477, 633, 669))]\n",
      "There are 13 nodes and 16 edges\n"
     ]
    }
   ],
   "source": [
    "soln = load_soln('../../data/soln/13.txt')"
   ]
  },
  {
   "cell_type": "code",
   "execution_count": 6,
   "metadata": {},
   "outputs": [
    {
     "name": "stdout",
     "output_type": "stream",
     "text": [
      "TRUE [((2, 5, 570), (1, 2, 4, 5, 11, 121, 468, 570)), ((2, 5, 570), (1, 2, 4, 5, 7, 11, 468, 570))] INNOV [((2, 5, 570), (1, 2, 4, 5, 11, 121, 468, 570)), ((2, 5, 570), (1, 2, 4, 5, 7, 11, 468, 570))] DIFF set()\n",
      "0\n",
      "TRUE [] INNOV [] DIFF set()\n",
      "0\n",
      "TRUE [] INNOV [] DIFF set()\n",
      "0\n",
      "TRUE [((1, 5), (1, 5, 11)), ((1, 5), (1, 3, 5, 189)), ((1, 5), (1, 5, 468, 570)), ((1, 5), (1, 5, 6)), ((1, 5), (1, 3, 5, 8, 477))] INNOV [((1, 5), (1, 5, 11)), ((1, 5), (1, 3, 5, 189)), ((1, 5), (1, 3, 5, 189, 204, 477)), ((1, 5), (1, 3, 5, 189, 669)), ((1, 5), (1, 3, 5, 189, 204, 477, 669)), ((1, 5), (1, 3, 5, 189, 204, 477, 633, 669)), ((1, 5), (1, 2, 4, 5, 11, 121, 468, 570)), ((1, 5), (1, 5, 468, 570)), ((1, 5), (1, 5, 6)), ((1, 5), (1, 2, 4, 5, 7, 11, 468, 570)), ((1, 5), (1, 3, 5, 8, 477))] DIFF set()\n",
      "0\n",
      "TRUE [((1, 5, 11), (1, 2, 4, 5, 11, 121, 468, 570)), ((1, 5, 11), (1, 2, 4, 5, 7, 11, 468, 570))] INNOV [((1, 5, 11), (1, 2, 4, 5, 11, 121, 468, 570)), ((1, 5, 11), (1, 2, 4, 5, 7, 11, 468, 570))] DIFF set()\n",
      "0\n",
      "TRUE [((1, 3, 5, 189), (1, 3, 5, 189, 204, 477)), ((1, 3, 5, 189), (1, 3, 5, 189, 669))] INNOV [((1, 3, 5, 189), (1, 3, 5, 189, 204, 477)), ((1, 3, 5, 189), (1, 3, 5, 189, 669)), ((1, 3, 5, 189), (1, 3, 5, 189, 204, 477, 669)), ((1, 3, 5, 189), (1, 3, 5, 189, 204, 477, 633, 669))] DIFF set()\n",
      "0\n",
      "TRUE [((1, 5, 468, 570), (1, 2, 4, 5, 11, 121, 468, 570)), ((1, 5, 468, 570), (1, 2, 4, 5, 7, 11, 468, 570))] INNOV [((1, 5, 468, 570), (1, 2, 4, 5, 7, 11, 468, 570))] DIFF {((1, 5, 468, 570), (1, 2, 4, 5, 11, 121, 468, 570))}\n",
      "1\n",
      "TRUE [] INNOV [] DIFF set()\n",
      "0\n",
      "TRUE [] INNOV [] DIFF set()\n",
      "0\n",
      "TRUE [((1, 3, 5, 189, 204, 477), (1, 3, 5, 189, 204, 477, 669))] INNOV [((1, 3, 5, 189, 204, 477), (1, 3, 5, 189, 204, 477, 669)), ((1, 3, 5, 189, 204, 477), (1, 3, 5, 189, 204, 477, 633, 669))] DIFF set()\n",
      "0\n",
      "TRUE [((1, 3, 5, 189, 669), (1, 3, 5, 189, 204, 477, 669))] INNOV [((1, 3, 5, 189, 669), (1, 3, 5, 189, 204, 477, 669)), ((1, 3, 5, 189, 669), (1, 3, 5, 189, 204, 477, 633, 669))] DIFF set()\n",
      "0\n",
      "TRUE [((1, 3, 5, 189, 204, 477, 669), (1, 3, 5, 189, 204, 477, 633, 669))] INNOV [((1, 3, 5, 189, 204, 477, 669), (1, 3, 5, 189, 204, 477, 633, 669))] DIFF set()\n",
      "0\n",
      "TRUE [] INNOV [] DIFF set()\n",
      "0\n"
     ]
    }
   ],
   "source": [
    "for node in soln.nodes:\n",
    "    out_soln = soln.out_edges(node)\n",
    "    out_graph = graph.out_edges(node)\n",
    "    diff = set(out_soln) - set(out_graph)\n",
    "    print('TRUE', out_soln, 'INNOV', out_graph, 'DIFF', diff)\n",
    "    print(len(diff))"
   ]
  },
  {
   "cell_type": "markdown",
   "metadata": {},
   "source": [
    "## Results \n",
    "\n",
    "does **NOT** work as an algorithm. In this experiment a graph is structed with each node having connections to every other node\n",
    "it is the superset of. Then, a transitive reduction is applied that removes most of the edges. In general, while often close\n",
    "to the real solution, the transitive reduction is slightly off. It is not a supplement to the standard algorithm."
   ]
  }
 ],
 "metadata": {
  "kernelspec": {
   "display_name": "Python 3",
   "language": "python",
   "name": "python3"
  },
  "language_info": {
   "codemirror_mode": {
    "name": "ipython",
    "version": 3
   },
   "file_extension": ".py",
   "mimetype": "text/x-python",
   "name": "python",
   "nbconvert_exporter": "python",
   "pygments_lexer": "ipython3",
   "version": "3.11.4"
  },
  "orig_nbformat": 4
 },
 "nbformat": 4,
 "nbformat_minor": 2
}
