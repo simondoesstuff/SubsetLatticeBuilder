{
 "cells": [
  {
   "cell_type": "code",
   "execution_count": 8,
   "metadata": {},
   "outputs": [],
   "source": [
    "from libs.nodes import *\n",
    "import matplotlib.pyplot as plt\n",
    "import networkx as nx\n",
    "import numpy as np"
   ]
  },
  {
   "cell_type": "code",
   "execution_count": 9,
   "metadata": {},
   "outputs": [],
   "source": [
    "pathA = '../data/soln/26.txt'\n",
    "pathB = '../data/tmp/26.soln'"
   ]
  },
  {
   "cell_type": "code",
   "execution_count": 10,
   "metadata": {},
   "outputs": [],
   "source": [
    "def parseGraph(path):\n",
    "    graph = nx.DiGraph()\n",
    "\n",
    "    with open(path, 'r') as f:\n",
    "        lines = f.readlines()\n",
    "        \n",
    "        for line in lines:\n",
    "            (a, b) = line.split(' -> ')\n",
    "            to_node = lambda x: [int(i) for i in x.strip().split(' ')]\n",
    "            parent = node(to_node(a))\n",
    "            child = node(to_node(b))\n",
    "            \n",
    "            graph.add_edge(parent, child)\n",
    "    \n",
    "    return graph\n",
    "\n",
    "graphA = parseGraph(pathA)\n",
    "graphB = parseGraph(pathB)"
   ]
  },
  {
   "cell_type": "markdown",
   "metadata": {},
   "source": [
    "# Out Degrees"
   ]
  },
  {
   "cell_type": "code",
   "execution_count": 11,
   "metadata": {},
   "outputs": [
    {
     "name": "stdout",
     "output_type": "stream",
     "text": [
      "Mean Out Degree: 1.0384615384615385\n",
      "Mean Out Degree: 1.0384615384615385\n"
     ]
    },
    {
     "data": {
      "image/png": "[encoded data removed]",
      "text/plain": [
       "<Figure size 640x480 with 1 Axes>"
      ]
     },
     "metadata": {},
     "output_type": "display_data"
    }
   ],
   "source": [
    "def plot_out_degree(graph):\n",
    "    out_degrees = [graph.out_degree(node) for node in graph.nodes()]\n",
    "    out_degrees = np.array(out_degrees)\n",
    "    plt.hist(out_degrees, bins=100)\n",
    "    print('Mean Out Degree:', np.mean(out_degrees))\n",
    "\n",
    "plot_out_degree(graphA)\n",
    "plot_out_degree(graphB)\n",
    "plt.legend(['A', 'B'])\n",
    "plt.show()"
   ]
  },
  {
   "cell_type": "markdown",
   "metadata": {},
   "source": [
    "# Edge to Edge Comparison"
   ]
  },
  {
   "cell_type": "code",
   "execution_count": 12,
   "metadata": {},
   "outputs": [
    {
     "name": "stdout",
     "output_type": "stream",
     "text": [
      "0 different edges\n",
      "First 100 different edges: []\n"
     ]
    }
   ],
   "source": [
    "def edge_diff(graphA, graphB):\n",
    "    edgesA = set(graphA.edges())\n",
    "    edgesB = set(graphB.edges())\n",
    "    diff = edgesA.symmetric_difference(edgesB)\n",
    "    \n",
    "    print(len(diff), 'different edges')\n",
    "    print('First 100 different edges:', list(diff)[:100])\n",
    "\n",
    "edge_diff(graphA, graphB)"
   ]
  },
  {
   "cell_type": "code",
   "execution_count": 13,
   "metadata": {},
   "outputs": [
    {
     "name": "stdout",
     "output_type": "stream",
     "text": [
      "1 different edges\n",
      "First 100 different edges: [((5,6), (7,8))]\n"
     ]
    }
   ],
   "source": [
    "# testing edge_diff\n",
    "\n",
    "test_graph1 = nx.DiGraph()\n",
    "test_graph1.add_edge(node([1, 2]), node([3, 4]))\n",
    "test_graph1.add_edge(node([3, 4]), node([5, 6]))\n",
    "\n",
    "test_graph2 = nx.DiGraph()\n",
    "test_graph2.add_edge(node([1, 2]), node([3, 4]))\n",
    "test_graph2.add_edge(node([3, 4]), node([5, 6]))\n",
    "test_graph2.add_edge(node([5, 6]), node([7, 8]))\n",
    "\n",
    "edge_diff(test_graph1, test_graph2)"
   ]
  }
 ],
 "metadata": {
  "kernelspec": {
   "display_name": "venv",
   "language": "python",
   "name": "python3"
  },
  "language_info": {
   "codemirror_mode": {
    "name": "ipython",
    "version": 3
   },
   "file_extension": ".py",
   "mimetype": "text/x-python",
   "name": "python",
   "nbconvert_exporter": "python",
   "pygments_lexer": "ipython3",
   "version": "3.11.4"
  },
  "orig_nbformat": 4
 },
 "nbformat": 4,
 "nbformat_minor": 2
}
